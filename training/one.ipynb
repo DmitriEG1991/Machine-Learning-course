# Create
import pandas as pd
