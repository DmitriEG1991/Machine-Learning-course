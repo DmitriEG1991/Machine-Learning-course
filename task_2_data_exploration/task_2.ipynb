{
 "cells": [
  {
   "cell_type": "code",
   "execution_count": 297,
   "id": "c8770bac",
   "metadata": {},
   "outputs": [],
   "source": [
    "import pandas as pd\n",
    "import seaborn as sns\n",
    "import numpy as np\n",
    "import matplotlib.pyplot as plt"
   ]
  },
  {
   "cell_type": "code",
   "execution_count": 298,
   "id": "c68581f5",
   "metadata": {},
   "outputs": [],
   "source": [
    "# Context\n",
    "# Проверяемые гипотезы:\n",
    "# 1. Зависимость выживаемости и пола\n",
    "# 2. Зависимость выживаемости и класса билета\n",
    "# 3. Зависимость выживаемости и порта посадки"
   ]
  },
  {
   "cell_type": "code",
   "execution_count": 299,
   "id": "43731ed3",
   "metadata": {},
   "outputs": [
    {
     "data": {
      "text/html": [
       "<div>\n",
       "<style scoped>\n",
       "    .dataframe tbody tr th:only-of-type {\n",
       "        vertical-align: middle;\n",
       "    }\n",
       "\n",
       "    .dataframe tbody tr th {\n",
       "        vertical-align: top;\n",
       "    }\n",
       "\n",
       "    .dataframe thead th {\n",
       "        text-align: right;\n",
       "    }\n",
       "</style>\n",
       "<table border=\"1\" class=\"dataframe\">\n",
       "  <thead>\n",
       "    <tr style=\"text-align: right;\">\n",
       "      <th></th>\n",
       "      <th>PassengerId</th>\n",
       "      <th>Survived</th>\n",
       "      <th>Pclass</th>\n",
       "      <th>Name</th>\n",
       "      <th>Sex</th>\n",
       "      <th>Age</th>\n",
       "      <th>SibSp</th>\n",
       "      <th>Parch</th>\n",
       "      <th>Ticket</th>\n",
       "      <th>Fare</th>\n",
       "      <th>Cabin</th>\n",
       "      <th>Embarked</th>\n",
       "    </tr>\n",
       "  </thead>\n",
       "  <tbody>\n",
       "    <tr>\n",
       "      <th>0</th>\n",
       "      <td>0</td>\n",
       "      <td>1</td>\n",
       "      <td>1</td>\n",
       "      <td>Oconnor, Frankie</td>\n",
       "      <td>male</td>\n",
       "      <td>NaN</td>\n",
       "      <td>2</td>\n",
       "      <td>0</td>\n",
       "      <td>209245</td>\n",
       "      <td>27.14</td>\n",
       "      <td>C12239</td>\n",
       "      <td>S</td>\n",
       "    </tr>\n",
       "    <tr>\n",
       "      <th>1</th>\n",
       "      <td>1</td>\n",
       "      <td>0</td>\n",
       "      <td>3</td>\n",
       "      <td>Bryan, Drew</td>\n",
       "      <td>male</td>\n",
       "      <td>NaN</td>\n",
       "      <td>0</td>\n",
       "      <td>0</td>\n",
       "      <td>27323</td>\n",
       "      <td>13.35</td>\n",
       "      <td>NaN</td>\n",
       "      <td>S</td>\n",
       "    </tr>\n",
       "    <tr>\n",
       "      <th>2</th>\n",
       "      <td>2</td>\n",
       "      <td>0</td>\n",
       "      <td>3</td>\n",
       "      <td>Owens, Kenneth</td>\n",
       "      <td>male</td>\n",
       "      <td>0.33</td>\n",
       "      <td>1</td>\n",
       "      <td>2</td>\n",
       "      <td>CA 457703</td>\n",
       "      <td>71.29</td>\n",
       "      <td>NaN</td>\n",
       "      <td>S</td>\n",
       "    </tr>\n",
       "    <tr>\n",
       "      <th>3</th>\n",
       "      <td>3</td>\n",
       "      <td>0</td>\n",
       "      <td>3</td>\n",
       "      <td>Kramer, James</td>\n",
       "      <td>male</td>\n",
       "      <td>19.00</td>\n",
       "      <td>0</td>\n",
       "      <td>0</td>\n",
       "      <td>A. 10866</td>\n",
       "      <td>13.04</td>\n",
       "      <td>NaN</td>\n",
       "      <td>S</td>\n",
       "    </tr>\n",
       "    <tr>\n",
       "      <th>4</th>\n",
       "      <td>4</td>\n",
       "      <td>1</td>\n",
       "      <td>3</td>\n",
       "      <td>Bond, Michael</td>\n",
       "      <td>male</td>\n",
       "      <td>25.00</td>\n",
       "      <td>0</td>\n",
       "      <td>0</td>\n",
       "      <td>427635</td>\n",
       "      <td>7.76</td>\n",
       "      <td>NaN</td>\n",
       "      <td>S</td>\n",
       "    </tr>\n",
       "    <tr>\n",
       "      <th>5</th>\n",
       "      <td>5</td>\n",
       "      <td>0</td>\n",
       "      <td>2</td>\n",
       "      <td>Sassano, Jonathan</td>\n",
       "      <td>male</td>\n",
       "      <td>35.00</td>\n",
       "      <td>0</td>\n",
       "      <td>0</td>\n",
       "      <td>13363</td>\n",
       "      <td>6.71</td>\n",
       "      <td>NaN</td>\n",
       "      <td>S</td>\n",
       "    </tr>\n",
       "    <tr>\n",
       "      <th>6</th>\n",
       "      <td>6</td>\n",
       "      <td>0</td>\n",
       "      <td>3</td>\n",
       "      <td>Conway, Jose</td>\n",
       "      <td>male</td>\n",
       "      <td>7.00</td>\n",
       "      <td>0</td>\n",
       "      <td>0</td>\n",
       "      <td>A/5</td>\n",
       "      <td>9.77</td>\n",
       "      <td>NaN</td>\n",
       "      <td>S</td>\n",
       "    </tr>\n",
       "    <tr>\n",
       "      <th>7</th>\n",
       "      <td>7</td>\n",
       "      <td>1</td>\n",
       "      <td>3</td>\n",
       "      <td>Werner, Linda</td>\n",
       "      <td>female</td>\n",
       "      <td>6.00</td>\n",
       "      <td>1</td>\n",
       "      <td>2</td>\n",
       "      <td>434426</td>\n",
       "      <td>31.50</td>\n",
       "      <td>NaN</td>\n",
       "      <td>S</td>\n",
       "    </tr>\n",
       "    <tr>\n",
       "      <th>8</th>\n",
       "      <td>8</td>\n",
       "      <td>0</td>\n",
       "      <td>1</td>\n",
       "      <td>Wardlaw, Michael</td>\n",
       "      <td>male</td>\n",
       "      <td>27.00</td>\n",
       "      <td>2</td>\n",
       "      <td>1</td>\n",
       "      <td>474849</td>\n",
       "      <td>73.02</td>\n",
       "      <td>A7253</td>\n",
       "      <td>S</td>\n",
       "    </tr>\n",
       "    <tr>\n",
       "      <th>9</th>\n",
       "      <td>9</td>\n",
       "      <td>0</td>\n",
       "      <td>2</td>\n",
       "      <td>Greigo, Rudy</td>\n",
       "      <td>male</td>\n",
       "      <td>66.00</td>\n",
       "      <td>0</td>\n",
       "      <td>0</td>\n",
       "      <td>6981</td>\n",
       "      <td>9.14</td>\n",
       "      <td>D2969</td>\n",
       "      <td>C</td>\n",
       "    </tr>\n",
       "  </tbody>\n",
       "</table>\n",
       "</div>"
      ],
      "text/plain": [
       "   PassengerId  Survived  Pclass               Name     Sex    Age  SibSp  \\\n",
       "0            0         1       1   Oconnor, Frankie    male    NaN      2   \n",
       "1            1         0       3        Bryan, Drew    male    NaN      0   \n",
       "2            2         0       3     Owens, Kenneth    male   0.33      1   \n",
       "3            3         0       3      Kramer, James    male  19.00      0   \n",
       "4            4         1       3      Bond, Michael    male  25.00      0   \n",
       "5            5         0       2  Sassano, Jonathan    male  35.00      0   \n",
       "6            6         0       3       Conway, Jose    male   7.00      0   \n",
       "7            7         1       3      Werner, Linda  female   6.00      1   \n",
       "8            8         0       1   Wardlaw, Michael    male  27.00      2   \n",
       "9            9         0       2       Greigo, Rudy    male  66.00      0   \n",
       "\n",
       "   Parch     Ticket   Fare   Cabin Embarked  \n",
       "0      0     209245  27.14  C12239        S  \n",
       "1      0      27323  13.35     NaN        S  \n",
       "2      2  CA 457703  71.29     NaN        S  \n",
       "3      0   A. 10866  13.04     NaN        S  \n",
       "4      0     427635   7.76     NaN        S  \n",
       "5      0      13363   6.71     NaN        S  \n",
       "6      0       A/5    9.77     NaN        S  \n",
       "7      2     434426  31.50     NaN        S  \n",
       "8      1     474849  73.02   A7253        S  \n",
       "9      0       6981   9.14   D2969        C  "
      ]
     },
     "execution_count": 299,
     "metadata": {},
     "output_type": "execute_result"
    }
   ],
   "source": [
    "data = pd.read_csv(\"train.csv\")\n",
    "data.head(10)"
   ]
  },
  {
   "cell_type": "code",
   "execution_count": 300,
   "id": "9d9545a2",
   "metadata": {},
   "outputs": [
    {
     "data": {
      "text/plain": [
       "56114"
      ]
     },
     "execution_count": 300,
     "metadata": {},
     "output_type": "execute_result"
    }
   ],
   "source": [
    "# Определение числа мужчин\n",
    "number_men = data[data['Sex'] == 'male'].shape[0]\n",
    "number_men"
   ]
  },
  {
   "cell_type": "code",
   "execution_count": 301,
   "id": "d3ec1325",
   "metadata": {},
   "outputs": [
    {
     "data": {
      "text/plain": [
       "56.11"
      ]
     },
     "execution_count": 301,
     "metadata": {},
     "output_type": "execute_result"
    }
   ],
   "source": [
    "# Определение процента мужчин от всех пассажиров\n",
    "percent_men = round(number_men/len(data)*100, 2)\n",
    "percent_men"
   ]
  },
  {
   "cell_type": "code",
   "execution_count": 302,
   "id": "82141d86",
   "metadata": {},
   "outputs": [
    {
     "data": {
      "text/plain": [
       "43886"
      ]
     },
     "execution_count": 302,
     "metadata": {},
     "output_type": "execute_result"
    }
   ],
   "source": [
    "# Определение числа женщин\n",
    "number_women = data[data['Sex'] == 'female'].shape[0]\n",
    "number_women"
   ]
  },
  {
   "cell_type": "code",
   "execution_count": 147,
   "id": "bf8b2fe5",
   "metadata": {},
   "outputs": [
    {
     "data": {
      "text/plain": [
       "43.89"
      ]
     },
     "execution_count": 147,
     "metadata": {},
     "output_type": "execute_result"
    }
   ],
   "source": [
    "# Определение процента женщин от всех пассажиров\n",
    "percent_women = round(number_women/len(data)*100, 2)\n",
    "percent_women"
   ]
  },
  {
   "cell_type": "code",
   "execution_count": 182,
   "id": "f937cbbd",
   "metadata": {},
   "outputs": [
    {
     "data": {
      "text/plain": [
       "<AxesSubplot:>"
      ]
     },
     "execution_count": 182,
     "metadata": {},
     "output_type": "execute_result"
    },
    {
     "data": {
      "image/png": "[encoded data removed]",
      "text/plain": [
       "<Figure size 432x288 with 1 Axes>"
      ]
     },
     "metadata": {
      "needs_background": "light"
     },
     "output_type": "display_data"
    }
   ],
   "source": [
    "# Гистограмма количества мужчин и женщин\n",
    "data['Sex'].hist(bins = 3)"
   ]
  },
  {
   "cell_type": "code",
   "execution_count": 184,
   "id": "b3a05e10",
   "metadata": {},
   "outputs": [
    {
     "data": {
      "image/png": "[encoded data removed]",
      "text/plain": [
       "<Figure size 432x288 with 1 Axes>"
      ]
     },
     "metadata": {},
     "output_type": "display_data"
    }
   ],
   "source": [
    "# Круговая диаграмма соотношения мужчин и женщин в %\n",
    "plt.pie(x=[percent_men, percent_women], labels=['men', 'women'], autopct='%1.f%%')\n",
    "plt.show()"
   ]
  },
  {
   "cell_type": "code",
   "execution_count": 194,
   "id": "8d08e593",
   "metadata": {},
   "outputs": [
    {
     "data": {
      "text/plain": [
       "42774"
      ]
     },
     "execution_count": 194,
     "metadata": {},
     "output_type": "execute_result"
    }
   ],
   "source": [
    "# Определение числа выживших пассажиров\n",
    "number_survivor = data[data['Survived'] == 1].shape[0]\n",
    "number_survivor"
   ]
  },
  {
   "cell_type": "code",
   "execution_count": 23,
   "id": "5c23e4c9",
   "metadata": {},
   "outputs": [
    {
     "data": {
      "text/plain": [
       "11548"
      ]
     },
     "execution_count": 23,
     "metadata": {},
     "output_type": "execute_result"
    }
   ],
   "source": [
    "# Определение числа выживших мужчин\n",
    "number_survivor_men = data[(data['Survived'] == 1) & (data['Sex'] == 'male')].shape[0]\n",
    "number_survivor_men"
   ]
  },
  {
   "cell_type": "code",
   "execution_count": 191,
   "id": "18e9c6f5",
   "metadata": {},
   "outputs": [
    {
     "data": {
      "text/plain": [
       "31226"
      ]
     },
     "execution_count": 191,
     "metadata": {},
     "output_type": "execute_result"
    }
   ],
   "source": [
    "# Определение числа выживших женщин\n",
    "number_survivor_women = data[(data['Survived'] == 1) & (data['Sex'] == 'female')].shape[0]\n",
    "number_survivor_women"
   ]
  },
  {
   "cell_type": "code",
   "execution_count": 190,
   "id": "7980f6cf",
   "metadata": {},
   "outputs": [
    {
     "data": {
      "text/plain": [
       "<AxesSubplot:>"
      ]
     },
     "execution_count": 190,
     "metadata": {},
     "output_type": "execute_result"
    },
    {
     "data": {
      "image/png": "[encoded data removed]",
      "text/plain": [
       "<Figure size 432x288 with 1 Axes>"
      ]
     },
     "metadata": {
      "needs_background": "light"
     },
     "output_type": "display_data"
    }
   ],
   "source": [
    "# Гистограмма количества выживших мужчин и женщин\n",
    "data[data['Survived'] == 1]['Sex'].hist(bins = 3)"
   ]
  },
  {
   "cell_type": "code",
   "execution_count": 197,
   "id": "0fcff2f9",
   "metadata": {},
   "outputs": [
    {
     "data": {
      "image/png": "[encoded data removed]",
      "text/plain": [
       "<Figure size 432x288 with 1 Axes>"
      ]
     },
     "metadata": {},
     "output_type": "display_data"
    }
   ],
   "source": [
    "# Круговая диаграмма соотношения выживших мужчин и женщин\n",
    "plt.pie(x=[number_survivor_men, number_survivor_women], labels=['men', 'women'], autopct='%1.2f%%')\n",
    "plt.show()"
   ]
  },
  {
   "cell_type": "code",
   "execution_count": 37,
   "id": "0eadb026",
   "metadata": {},
   "outputs": [
    {
     "data": {
      "text/plain": [
       "42.77"
      ]
     },
     "execution_count": 37,
     "metadata": {},
     "output_type": "execute_result"
    }
   ],
   "source": [
    "# Общий процент выживших пассажиров\n",
    "percent_survivor = round((number_survivor/len(data)*100), 2)\n",
    "percent_survivor"
   ]
  },
  {
   "cell_type": "code",
   "execution_count": 193,
   "id": "d64b8307",
   "metadata": {},
   "outputs": [
    {
     "data": {
      "image/png": "[encoded data removed]",
      "text/plain": [
       "<Figure size 432x288 with 1 Axes>"
      ]
     },
     "metadata": {},
     "output_type": "display_data"
    }
   ],
   "source": [
    "# Круговая диаграмма соотношения выживших и погибших\n",
    "plt.pie(x=[percent_survivor, 100-percent_survivor], labels=['alive', 'dead'], autopct='%1.2f%%')\n",
    "plt.show()"
   ]
  },
  {
   "cell_type": "code",
   "execution_count": 38,
   "id": "da8da7d3",
   "metadata": {},
   "outputs": [
    {
     "data": {
      "text/plain": [
       "20.58"
      ]
     },
     "execution_count": 38,
     "metadata": {},
     "output_type": "execute_result"
    }
   ],
   "source": [
    "# Процент выживших среди мужчин\n",
    "percent_survivor_men = round(number_survivor_men/number_men*100, 2)\n",
    "percent_survivor_men"
   ]
  },
  {
   "cell_type": "code",
   "execution_count": 195,
   "id": "2e247077",
   "metadata": {},
   "outputs": [
    {
     "data": {
      "image/png": "[encoded data removed]",
      "text/plain": [
       "<Figure size 432x288 with 1 Axes>"
      ]
     },
     "metadata": {},
     "output_type": "display_data"
    }
   ],
   "source": [
    "# Круговая диаграмма соотношения выживших мужчин к погибшим\n",
    "plt.pie(x=[percent_survivor_men, 100-percent_survivor_men], labels=['alive men', 'dead men'], autopct='%1.2f%%')\n",
    "plt.show()"
   ]
  },
  {
   "cell_type": "code",
   "execution_count": 39,
   "id": "bd6107fa",
   "metadata": {},
   "outputs": [
    {
     "data": {
      "text/plain": [
       "71.15"
      ]
     },
     "execution_count": 39,
     "metadata": {},
     "output_type": "execute_result"
    }
   ],
   "source": [
    "# Процент выживших среди женщин\n",
    "percent_survivor_women = round(number_survivor_women/number_women*100, 2)\n",
    "percent_survivor_women"
   ]
  },
  {
   "cell_type": "code",
   "execution_count": 196,
   "id": "61488909",
   "metadata": {},
   "outputs": [
    {
     "data": {
      "image/png": "[encoded data removed]",
      "text/plain": [
       "<Figure size 432x288 with 1 Axes>"
      ]
     },
     "metadata": {},
     "output_type": "display_data"
    }
   ],
   "source": [
    "# Круговая диаграмма соотношения выживших женщин к погибшим\n",
    "plt.pie(x=[percent_survivor_women, 100-percent_survivor_women], labels=['alive women', 'dead women'], autopct='%1.2f%%')\n",
    "plt.show()"
   ]
  },
  {
   "cell_type": "code",
   "execution_count": 274,
   "id": "dfe17731",
   "metadata": {},
   "outputs": [],
   "source": [
    "# Выберем всех у кого указан возраст\n",
    "age = data[(data['Age'] >= 0) | (data['Age'] <= 100)]\n"
   ]
  },
  {
   "cell_type": "code",
   "execution_count": 267,
   "id": "f86fa280",
   "metadata": {},
   "outputs": [
    {
     "data": {
      "text/plain": [
       "<AxesSubplot:>"
      ]
     },
     "execution_count": 267,
     "metadata": {},
     "output_type": "execute_result"
    },
    {
     "data": {
      "image/png": "[encoded data removed]",
      "text/plain": [
       "<Figure size 432x288 with 1 Axes>"
      ]
     },
     "metadata": {
      "needs_background": "light"
     },
     "output_type": "display_data"
    }
   ],
   "source": [
    "# Гистограмма распределения по возрасту\n",
    "age['Age'].hist()"
   ]
  },
  {
   "cell_type": "code",
   "execution_count": 77,
   "id": "e7f71284",
   "metadata": {},
   "outputs": [
    {
     "data": {
      "text/plain": [
       "38.36"
      ]
     },
     "execution_count": 77,
     "metadata": {},
     "output_type": "execute_result"
    }
   ],
   "source": [
    "# Определение среднего возраста пассажиров\n",
    "mean_age = round(age['Age'].mean(), 2)\n",
    "mean_age"
   ]
  },
  {
   "cell_type": "code",
   "execution_count": 84,
   "id": "9170f836",
   "metadata": {},
   "outputs": [
    {
     "data": {
      "text/plain": [
       "37.03"
      ]
     },
     "execution_count": 84,
     "metadata": {},
     "output_type": "execute_result"
    }
   ],
   "source": [
    "# Определение среднего возраста среди мужчин\n",
    "mean_age_men = round(age[age['Sex'] == 'male']['Age'].mean(), 2)\n",
    "mean_age_men"
   ]
  },
  {
   "cell_type": "code",
   "execution_count": 85,
   "id": "c22e648a",
   "metadata": {},
   "outputs": [
    {
     "data": {
      "text/plain": [
       "40.04"
      ]
     },
     "execution_count": 85,
     "metadata": {},
     "output_type": "execute_result"
    }
   ],
   "source": [
    "# Определение среднего возраста среди женщин\n",
    "mean_age_women = round(age[age['Sex'] == 'female']['Age'].mean(), 2)\n",
    "mean_age_women"
   ]
  },
  {
   "cell_type": "code",
   "execution_count": 89,
   "id": "19ca15e0",
   "metadata": {},
   "outputs": [
    {
     "data": {
      "text/plain": [
       "40.55"
      ]
     },
     "execution_count": 89,
     "metadata": {},
     "output_type": "execute_result"
    }
   ],
   "source": [
    "# Определение среднего возраста среди выживших пассажиров\n",
    "mean_age_suvivor = round(age[age['Survived'] == 1]['Age'].mean(), 2)\n",
    "mean_age_suvivor"
   ]
  },
  {
   "cell_type": "code",
   "execution_count": 88,
   "id": "41068f75",
   "metadata": {},
   "outputs": [
    {
     "data": {
      "text/plain": [
       "36.71"
      ]
     },
     "execution_count": 88,
     "metadata": {},
     "output_type": "execute_result"
    }
   ],
   "source": [
    "# Определение среднего возраста среди погибших пассажиров\n",
    "mean_age_died = round(age[age['Survived'] == 0]['Age'].mean(), 2)\n",
    "mean_age_died"
   ]
  },
  {
   "cell_type": "code",
   "execution_count": 155,
   "id": "7ac92f7d",
   "metadata": {},
   "outputs": [
    {
     "data": {
      "text/plain": [
       "87.0"
      ]
     },
     "execution_count": 155,
     "metadata": {},
     "output_type": "execute_result"
    }
   ],
   "source": [
    "# Максимальный возраст пассажира\n",
    "max_age = max(age['Age'])\n",
    "max_age"
   ]
  },
  {
   "cell_type": "code",
   "execution_count": 268,
   "id": "107fe25d",
   "metadata": {},
   "outputs": [
    {
     "data": {
      "text/plain": [
       "0.08"
      ]
     },
     "execution_count": 268,
     "metadata": {},
     "output_type": "execute_result"
    }
   ],
   "source": [
    "# Минимальный возраст пассажира\n",
    "min_age = min(age['Age'])\n",
    "min_age"
   ]
  },
  {
   "cell_type": "code",
   "execution_count": 270,
   "id": "c50c1e43",
   "metadata": {},
   "outputs": [
    {
     "data": {
      "text/plain": [
       "11917"
      ]
     },
     "execution_count": 270,
     "metadata": {},
     "output_type": "execute_result"
    }
   ],
   "source": [
    "# Вычисление количества детей на борту(меньше 18 лет)\n",
    "children = age[age['Age'] < 18 ].shape[0]\n",
    "children"
   ]
  },
  {
   "cell_type": "code",
   "execution_count": 271,
   "id": "77b91700",
   "metadata": {},
   "outputs": [
    {
     "data": {
      "text/plain": [
       "5212"
      ]
     },
     "execution_count": 271,
     "metadata": {},
     "output_type": "execute_result"
    }
   ],
   "source": [
    "# Вычисление количество выживших детей (меньше 18 лет)\n",
    "children = age[(age['Age'] < 18) & (age['Survived'] == 1)].shape[0]\n",
    "children"
   ]
  },
  {
   "cell_type": "code",
   "execution_count": 284,
   "id": "6dacbe1d",
   "metadata": {},
   "outputs": [
    {
     "data": {
      "text/plain": [
       "<seaborn.axisgrid.FacetGrid at 0x1e2da62d8e0>"
      ]
     },
     "execution_count": 284,
     "metadata": {},
     "output_type": "execute_result"
    },
    {
     "data": {
      "image/png": "[encoded data removed]",
      "text/plain": [
       "<Figure size 360x360 with 1 Axes>"
      ]
     },
     "metadata": {
      "needs_background": "light"
     },
     "output_type": "display_data"
    }
   ],
   "source": [
    "# Гистограмма распределения возрастов\n",
    "sns.displot(\n",
    "        data=data,\n",
    "        x='Age', kde = True)"
   ]
  },
  {
   "cell_type": "code",
   "execution_count": 91,
   "id": "2e5efc6b",
   "metadata": {},
   "outputs": [
    {
     "data": {
      "text/plain": [
       "30315"
      ]
     },
     "execution_count": 91,
     "metadata": {},
     "output_type": "execute_result"
    }
   ],
   "source": [
    "# Определение числа билетов 1 класса\n",
    "p_class_one = data[data['Pclass'] == 1].shape[0]\n",
    "p_class_one"
   ]
  },
  {
   "cell_type": "code",
   "execution_count": 92,
   "id": "71da9664",
   "metadata": {},
   "outputs": [
    {
     "data": {
      "text/plain": [
       "28679"
      ]
     },
     "execution_count": 92,
     "metadata": {},
     "output_type": "execute_result"
    }
   ],
   "source": [
    "# Определение числа билетов 2 класса\n",
    "p_class_two = data[data['Pclass'] == 2].shape[0]\n",
    "p_class_two"
   ]
  },
  {
   "cell_type": "code",
   "execution_count": 93,
   "id": "af5c3a91",
   "metadata": {},
   "outputs": [
    {
     "data": {
      "text/plain": [
       "41006"
      ]
     },
     "execution_count": 93,
     "metadata": {},
     "output_type": "execute_result"
    }
   ],
   "source": [
    "# Определение числа билетов 3 класса\n",
    "p_class_three = data[data['Pclass'] == 3].shape[0]\n",
    "p_class_three"
   ]
  },
  {
   "cell_type": "code",
   "execution_count": 211,
   "id": "8cde1571",
   "metadata": {},
   "outputs": [
    {
     "data": {
      "text/plain": [
       "<AxesSubplot:>"
      ]
     },
     "execution_count": 211,
     "metadata": {},
     "output_type": "execute_result"
    },
    {
     "data": {
      "image/png": "[encoded data removed]",
      "text/plain": [
       "<Figure size 432x288 with 1 Axes>"
      ]
     },
     "metadata": {
      "needs_background": "light"
     },
     "output_type": "display_data"
    }
   ],
   "source": [
    "# Гистограмма числа пассажиров 1, 2 и 3 классов\n",
    "data['Pclass'].hist(bins = 5)"
   ]
  },
  {
   "cell_type": "code",
   "execution_count": 94,
   "id": "97d30dbc",
   "metadata": {},
   "outputs": [
    {
     "data": {
      "text/plain": [
       "30.31"
      ]
     },
     "execution_count": 94,
     "metadata": {},
     "output_type": "execute_result"
    }
   ],
   "source": [
    "# Определение процента билетов 1 класса от общего числа\n",
    "percent_one_class = round(p_class_one/len(data)*100, 2)\n",
    "percent_one_class"
   ]
  },
  {
   "cell_type": "code",
   "execution_count": 95,
   "id": "d10992c0",
   "metadata": {},
   "outputs": [
    {
     "data": {
      "text/plain": [
       "28.68"
      ]
     },
     "execution_count": 95,
     "metadata": {},
     "output_type": "execute_result"
    }
   ],
   "source": [
    "# Определение процента билетов 2 класса от общего числа\n",
    "percent_two_class = round(p_class_two/len(data)*100, 2)\n",
    "percent_two_class"
   ]
  },
  {
   "cell_type": "code",
   "execution_count": 96,
   "id": "9af43e20",
   "metadata": {},
   "outputs": [
    {
     "data": {
      "text/plain": [
       "41.01"
      ]
     },
     "execution_count": 96,
     "metadata": {},
     "output_type": "execute_result"
    }
   ],
   "source": [
    "# Определение процента билетов 3 класса от общего числа\n",
    "percent_three_class = round(p_class_three/len(data)*100, 2)\n",
    "percent_three_class"
   ]
  },
  {
   "cell_type": "code",
   "execution_count": 212,
   "id": "2942a10b",
   "metadata": {},
   "outputs": [
    {
     "data": {
      "image/png": "[encoded data removed]",
      "text/plain": [
       "<Figure size 432x288 with 1 Axes>"
      ]
     },
     "metadata": {},
     "output_type": "display_data"
    }
   ],
   "source": [
    "# Круговая диаграмма соотношения билетов 1, 2 и 3 классов\n",
    "plt.pie(x=[percent_one_class, percent_two_class, percent_three_class], \n",
    "        labels=['1 class', '2 class', '3 class'], autopct='%1.2f%%')\n",
    "plt.show()"
   ]
  },
  {
   "cell_type": "code",
   "execution_count": 106,
   "id": "dad7dfba",
   "metadata": {},
   "outputs": [
    {
     "data": {
      "text/plain": [
       "17576"
      ]
     },
     "execution_count": 106,
     "metadata": {},
     "output_type": "execute_result"
    }
   ],
   "source": [
    "# Определение числа выживших пассажиров 1 класса\n",
    "alive_one_class =  data[(data['Survived'] == 1) & (data['Pclass'] == 1)].shape[0]\n",
    "alive_one_class"
   ]
  },
  {
   "cell_type": "code",
   "execution_count": 107,
   "id": "65d0553e",
   "metadata": {},
   "outputs": [
    {
     "data": {
      "text/plain": [
       "15057"
      ]
     },
     "execution_count": 107,
     "metadata": {},
     "output_type": "execute_result"
    }
   ],
   "source": [
    "# Определение числа выживших пассажиров 2 класса\n",
    "alive_two_class =  data[(data['Survived'] == 1) & (data['Pclass'] == 2)].shape[0]\n",
    "alive_two_class"
   ]
  },
  {
   "cell_type": "code",
   "execution_count": 108,
   "id": "5e37ce18",
   "metadata": {},
   "outputs": [
    {
     "data": {
      "text/plain": [
       "10141"
      ]
     },
     "execution_count": 108,
     "metadata": {},
     "output_type": "execute_result"
    }
   ],
   "source": [
    "# Определение числа выживших пассажиров 3 класса\n",
    "alive_three_class =  data[(data['Survived'] == 1) & (data['Pclass'] == 3)].shape[0]\n",
    "alive_three_class"
   ]
  },
  {
   "cell_type": "code",
   "execution_count": 214,
   "id": "771dd073",
   "metadata": {},
   "outputs": [
    {
     "data": {
      "text/plain": [
       "<AxesSubplot:>"
      ]
     },
     "execution_count": 214,
     "metadata": {},
     "output_type": "execute_result"
    },
    {
     "data": {
      "image/png": "[encoded data removed]",
      "text/plain": [
       "<Figure size 432x288 with 1 Axes>"
      ]
     },
     "metadata": {
      "needs_background": "light"
     },
     "output_type": "display_data"
    }
   ],
   "source": [
    "# Гистограмма числа выживших пассажиров 1, 2 и 3 классов\n",
    "data[data['Survived'] == 1]['Pclass'].hist(bins = 5)"
   ]
  },
  {
   "cell_type": "code",
   "execution_count": 111,
   "id": "2db0c91a",
   "metadata": {},
   "outputs": [
    {
     "data": {
      "text/plain": [
       "41.09"
      ]
     },
     "execution_count": 111,
     "metadata": {},
     "output_type": "execute_result"
    }
   ],
   "source": [
    "# Процент выживших пассажиров 1 класса от общего числа выживших\n",
    "percent_alive_one_class = round(alive_one_class/number_survivor*100, 2)\n",
    "percent_alive_one_class"
   ]
  },
  {
   "cell_type": "code",
   "execution_count": 112,
   "id": "a9fa2db8",
   "metadata": {},
   "outputs": [
    {
     "data": {
      "text/plain": [
       "35.2"
      ]
     },
     "execution_count": 112,
     "metadata": {},
     "output_type": "execute_result"
    }
   ],
   "source": [
    "# Процент выживших пассажиров 2 класса от общего числа выживших\n",
    "percent_alive_two_class = round(alive_two_class/number_survivor*100, 2)\n",
    "percent_alive_two_class"
   ]
  },
  {
   "cell_type": "code",
   "execution_count": 113,
   "id": "51458b18",
   "metadata": {},
   "outputs": [
    {
     "data": {
      "text/plain": [
       "23.71"
      ]
     },
     "execution_count": 113,
     "metadata": {},
     "output_type": "execute_result"
    }
   ],
   "source": [
    "# Процент выживших пассажиров 3 класса от общего числа выживших\n",
    "percent_alive_three_class = round(alive_three_class/number_survivor*100, 2)\n",
    "percent_alive_three_class"
   ]
  },
  {
   "cell_type": "code",
   "execution_count": 215,
   "id": "819b0b15",
   "metadata": {},
   "outputs": [
    {
     "data": {
      "image/png": "[encoded data removed]",
      "text/plain": [
       "<Figure size 432x288 with 1 Axes>"
      ]
     },
     "metadata": {},
     "output_type": "display_data"
    }
   ],
   "source": [
    "# Гистограмма соотношения выживших пассажиров 1, 2 и 3 класса\n",
    "plt.pie(x=[percent_alive_one_class, percent_alive_two_class, percent_alive_three_class], \n",
    "        labels=['1 class alive', '2 class alive', '3 class alive'], autopct='%1.2f%%')\n",
    "plt.show()"
   ]
  },
  {
   "cell_type": "code",
   "execution_count": 114,
   "id": "8cbcc50b",
   "metadata": {},
   "outputs": [
    {
     "data": {
      "text/plain": [
       "57.98"
      ]
     },
     "execution_count": 114,
     "metadata": {},
     "output_type": "execute_result"
    }
   ],
   "source": [
    "# Определение выживаемости для пассажиров 1 класса\n",
    "percent_survivor_one_class = round(alive_one_class/p_class_one*100, 2)\n",
    "percent_survivor_one_class"
   ]
  },
  {
   "cell_type": "code",
   "execution_count": 115,
   "id": "d0d7685d",
   "metadata": {},
   "outputs": [
    {
     "data": {
      "text/plain": [
       "52.5"
      ]
     },
     "execution_count": 115,
     "metadata": {},
     "output_type": "execute_result"
    }
   ],
   "source": [
    "# Определение выживаемости для пассажиров 2 класса\n",
    "percent_survivor_two_class = round(alive_two_class/p_class_two*100, 2)\n",
    "percent_survivor_two_class"
   ]
  },
  {
   "cell_type": "code",
   "execution_count": 116,
   "id": "fc86dea4",
   "metadata": {},
   "outputs": [
    {
     "data": {
      "text/plain": [
       "24.73"
      ]
     },
     "execution_count": 116,
     "metadata": {},
     "output_type": "execute_result"
    }
   ],
   "source": [
    "# Определение выживаемости для пассажиров 3 класса\n",
    "percent_survivor_three_class = round(alive_three_class/p_class_three*100, 2)\n",
    "percent_survivor_three_class"
   ]
  },
  {
   "cell_type": "code",
   "execution_count": 228,
   "id": "0cfbb774",
   "metadata": {},
   "outputs": [
    {
     "data": {
      "image/png": "[encoded data removed]",
      "text/plain": [
       "<Figure size 432x288 with 1 Axes>"
      ]
     },
     "metadata": {},
     "output_type": "display_data"
    }
   ],
   "source": [
    "# Гистограмма процента выживаемости для пассажиров 1 класса\n",
    "plt.pie(x=[percent_survivor_one_class, 100-percent_survivor_one_class], \n",
    "        labels=['1 class alive', '1 class dead'], autopct='%1.2f%%')\n",
    "plt.show()"
   ]
  },
  {
   "cell_type": "code",
   "execution_count": 229,
   "id": "9ddcfa68",
   "metadata": {},
   "outputs": [
    {
     "data": {
      "image/png": "[encoded data removed]",
      "text/plain": [
       "<Figure size 432x288 with 1 Axes>"
      ]
     },
     "metadata": {},
     "output_type": "display_data"
    }
   ],
   "source": [
    "# Гистограмма процента выживаемости для пассажиров 2 класса\n",
    "plt.pie(x=[percent_survivor_two_class, 100-percent_survivor_two_class], \n",
    "        labels=['2 class alive', '2 class dead'], autopct='%1.2f%%')\n",
    "plt.show()"
   ]
  },
  {
   "cell_type": "code",
   "execution_count": 230,
   "id": "60645c4f",
   "metadata": {},
   "outputs": [
    {
     "data": {
      "image/png": "[encoded data removed]",
      "text/plain": [
       "<Figure size 432x288 with 1 Axes>"
      ]
     },
     "metadata": {},
     "output_type": "display_data"
    }
   ],
   "source": [
    "# Гистограмма процента выживаемости для пассажиров 3 класса\n",
    "plt.pie(x=[percent_survivor_three_class, 100-percent_survivor_three_class], \n",
    "        labels=['3 class alive', '3 class dead'], autopct='%1.2f%%')\n",
    "plt.show()"
   ]
  },
  {
   "cell_type": "code",
   "execution_count": 234,
   "id": "2559b3f3",
   "metadata": {},
   "outputs": [
    {
     "data": {
      "text/plain": [
       "26692"
      ]
     },
     "execution_count": 234,
     "metadata": {},
     "output_type": "execute_result"
    }
   ],
   "source": [
    "# Определяем количество тех у кого на борту были братья(сестры) или супруги\n",
    "sibsp = data[data['SibSp'] > 0].shape[0]\n",
    "sibsp"
   ]
  },
  {
   "cell_type": "code",
   "execution_count": 236,
   "id": "c9139cd1",
   "metadata": {},
   "outputs": [
    {
     "data": {
      "text/plain": [
       "<AxesSubplot:>"
      ]
     },
     "execution_count": 236,
     "metadata": {},
     "output_type": "execute_result"
    },
    {
     "data": {
      "image/png": "[encoded data removed]",
      "text/plain": [
       "<Figure size 432x288 with 1 Axes>"
      ]
     },
     "metadata": {
      "needs_background": "light"
     },
     "output_type": "display_data"
    }
   ],
   "source": [
    "# Гистограмма распределения количества пассажиров с количеством братьев(сестер) или супругов на борту\n",
    "data[data['SibSp'] > 0]['SibSp'].hist()"
   ]
  },
  {
   "cell_type": "code",
   "execution_count": 237,
   "id": "56321fd7",
   "metadata": {},
   "outputs": [
    {
     "data": {
      "text/plain": [
       "26460"
      ]
     },
     "execution_count": 237,
     "metadata": {},
     "output_type": "execute_result"
    }
   ],
   "source": [
    "# Определяем количество тех у кого на борту были родители или дети\n",
    "parch = data[data['Parch'] > 0].shape[0]\n",
    "parch"
   ]
  },
  {
   "cell_type": "code",
   "execution_count": 238,
   "id": "8a562fbe",
   "metadata": {},
   "outputs": [
    {
     "data": {
      "text/plain": [
       "<AxesSubplot:>"
      ]
     },
     "execution_count": 238,
     "metadata": {},
     "output_type": "execute_result"
    },
    {
     "data": {
      "image/png": "[encoded data removed]",
      "text/plain": [
       "<Figure size 432x288 with 1 Axes>"
      ]
     },
     "metadata": {
      "needs_background": "light"
     },
     "output_type": "display_data"
    }
   ],
   "source": [
    "# Гистограмма распределения количества пассажиров с количеством родителей или детей на борту\n",
    "data[data['Parch'] > 0]['Parch'].hist()"
   ]
  },
  {
   "cell_type": "code",
   "execution_count": 275,
   "id": "a08386fd",
   "metadata": {},
   "outputs": [],
   "source": [
    "# Определяем пассажиров с указанным пунктом отправления\n",
    "embarked = data[(data['Embarked'] == 'C') | (data['Embarked'] == 'S') | (data['Embarked'] == 'Q')]"
   ]
  },
  {
   "cell_type": "code",
   "execution_count": 131,
   "id": "e1bc1a35",
   "metadata": {},
   "outputs": [
    {
     "data": {
      "text/plain": [
       "22187"
      ]
     },
     "execution_count": 131,
     "metadata": {},
     "output_type": "execute_result"
    }
   ],
   "source": [
    "# Определяем число пассажиров с пунктом отправления Шербург\n",
    "Cherbourg = data[data['Embarked'] == 'C'].shape[0]\n",
    "Cherbourg"
   ]
  },
  {
   "cell_type": "code",
   "execution_count": 132,
   "id": "75994c68",
   "metadata": {},
   "outputs": [
    {
     "data": {
      "text/plain": [
       "5424"
      ]
     },
     "execution_count": 132,
     "metadata": {},
     "output_type": "execute_result"
    }
   ],
   "source": [
    "# Определяем число пассажиров с пунктом отправления Квиинстоун\n",
    "Queenstown = data[data['Embarked'] == 'Q'].shape[0]\n",
    "Queenstown"
   ]
  },
  {
   "cell_type": "code",
   "execution_count": 133,
   "id": "13951bf6",
   "metadata": {},
   "outputs": [
    {
     "data": {
      "text/plain": [
       "72139"
      ]
     },
     "execution_count": 133,
     "metadata": {},
     "output_type": "execute_result"
    }
   ],
   "source": [
    "# Определяем число пассажиров с пунктом отправления Саутгемптон\n",
    "Southampton = data[data['Embarked'] == 'S'].shape[0]\n",
    "Southampton"
   ]
  },
  {
   "cell_type": "code",
   "execution_count": 134,
   "id": "3fd25266",
   "metadata": {},
   "outputs": [
    {
     "data": {
      "text/plain": [
       "22.19"
      ]
     },
     "execution_count": 134,
     "metadata": {},
     "output_type": "execute_result"
    }
   ],
   "source": [
    "# Определяем процент пассажиров с пунктом отправления Шербург от общего числа пассажиров\n",
    "percent_Cherbourg = round(Cherbourg/len(data)*100, 2)\n",
    "percent_Cherbourg"
   ]
  },
  {
   "cell_type": "code",
   "execution_count": 135,
   "id": "b00e31b1",
   "metadata": {},
   "outputs": [
    {
     "data": {
      "text/plain": [
       "5.42"
      ]
     },
     "execution_count": 135,
     "metadata": {},
     "output_type": "execute_result"
    }
   ],
   "source": [
    "# Определяем процент пассажиров с пунктом отправления Квинстоун от общего числа пассажиров\n",
    "percent_Queenstown = round(Queenstown/len(data)*100, 2)\n",
    "percent_Queenstown"
   ]
  },
  {
   "cell_type": "code",
   "execution_count": 136,
   "id": "2739ee99",
   "metadata": {},
   "outputs": [
    {
     "data": {
      "text/plain": [
       "72.14"
      ]
     },
     "execution_count": 136,
     "metadata": {},
     "output_type": "execute_result"
    }
   ],
   "source": [
    "# Определяем процент пассажиров с пунктом отправления Саутгемптон от общего числа пассажиров\n",
    "percent_Southampton = round(Southampton/len(data)*100, 2)\n",
    "percent_Southampton"
   ]
  },
  {
   "cell_type": "code",
   "execution_count": 138,
   "id": "70f01e9a",
   "metadata": {},
   "outputs": [
    {
     "data": {
      "text/plain": [
       "0.25"
      ]
     },
     "execution_count": 138,
     "metadata": {},
     "output_type": "execute_result"
    }
   ],
   "source": [
    "# Определяем процент пассажиров с неуказанным пунктом отправления\n",
    "percent_unknown = 100 - percent_Cherbourg - percent_Queenstown - percent_Southampton\n",
    "percent_unknown"
   ]
  },
  {
   "cell_type": "code",
   "execution_count": 240,
   "id": "0a4d30ed",
   "metadata": {},
   "outputs": [
    {
     "data": {
      "image/png": "[encoded data removed]",
      "text/plain": [
       "<Figure size 432x288 with 1 Axes>"
      ]
     },
     "metadata": {},
     "output_type": "display_data"
    }
   ],
   "source": [
    "# Круговая диаграмма распределения пассажиров по пункту отправления\n",
    "plt.pie(x=[percent_Cherbourg, percent_Queenstown, percent_Southampton, percent_unknow], \n",
    "        labels=['Cherbourg', 'Queenstown', 'Southampton', 'unknown'], autopct='%1.2f%%')\n",
    "plt.show()"
   ]
  },
  {
   "cell_type": "code",
   "execution_count": 140,
   "id": "c74f826e",
   "metadata": {},
   "outputs": [
    {
     "data": {
      "text/plain": [
       "16669"
      ]
     },
     "execution_count": 140,
     "metadata": {},
     "output_type": "execute_result"
    }
   ],
   "source": [
    "# Определяем число выживших пассажиров с пунктом отправления Шербург\n",
    "Cherbourg_alive = data[(data['Survived'] == 1) & (data['Embarked'] == 'C')].shape[0]\n",
    "Cherbourg_alive"
   ]
  },
  {
   "cell_type": "code",
   "execution_count": 141,
   "id": "3fcba26e",
   "metadata": {},
   "outputs": [
    {
     "data": {
      "text/plain": [
       "3238"
      ]
     },
     "execution_count": 141,
     "metadata": {},
     "output_type": "execute_result"
    }
   ],
   "source": [
    "# Определяем число выживших пассажиров с пунктом отправления Квинстон\n",
    "Queenstown_alive = data[(data['Survived'] == 1) & (data['Embarked'] == 'Q')].shape[0]\n",
    "Queenstown_alive"
   ]
  },
  {
   "cell_type": "code",
   "execution_count": 142,
   "id": "492ecc45",
   "metadata": {},
   "outputs": [
    {
     "data": {
      "text/plain": [
       "22745"
      ]
     },
     "execution_count": 142,
     "metadata": {},
     "output_type": "execute_result"
    }
   ],
   "source": [
    "# Определяем число выживших пассажиров с пунктом отправления Саутгемптон\n",
    "Southampton_alive = data[(data['Survived'] == 1) & (data['Embarked'] == 'S')].shape[0]\n",
    "Southampton_alive"
   ]
  },
  {
   "cell_type": "code",
   "execution_count": 143,
   "id": "51391b09",
   "metadata": {},
   "outputs": [
    {
     "data": {
      "text/plain": [
       "122"
      ]
     },
     "execution_count": 143,
     "metadata": {},
     "output_type": "execute_result"
    }
   ],
   "source": [
    "# Определяем число выживших пассажиров с неуказанным пунктом отправления\n",
    "other_alive = number_survivor-Cherbourg_alive-Queenstown_alive-Southampton_alive\n",
    "other_alive"
   ]
  },
  {
   "cell_type": "code",
   "execution_count": 241,
   "id": "358144a5",
   "metadata": {},
   "outputs": [
    {
     "data": {
      "image/png": "[encoded data removed]",
      "text/plain": [
       "<Figure size 432x288 with 1 Axes>"
      ]
     },
     "metadata": {},
     "output_type": "display_data"
    }
   ],
   "source": [
    "# Круговая диаграмма распределения выживших пассажиров по пункту отправления\n",
    "plt.pie(x=[Cherbourg_alive, Queenstown_alive, Southampton_alive, other_alive], \n",
    "        labels=['Cherbourg alive', 'Queenstown alive', 'Southampton alive', 'unknown alive'], autopct='%1.2f%%')\n",
    "plt.show()"
   ]
  },
  {
   "cell_type": "code",
   "execution_count": 242,
   "id": "3bfd78ad",
   "metadata": {},
   "outputs": [
    {
     "data": {
      "text/plain": [
       "75.13"
      ]
     },
     "execution_count": 242,
     "metadata": {},
     "output_type": "execute_result"
    }
   ],
   "source": [
    "# Опрделение процента выживаемости пассажиров из Шербурга\n",
    "percent_sirvivor_from_Cherbourg = round(Cherbourg_alive/Cherbourg*100, 2)\n",
    "percent_sirvivor_from_Cherbourg"
   ]
  },
  {
   "cell_type": "code",
   "execution_count": 245,
   "id": "466c9320",
   "metadata": {},
   "outputs": [
    {
     "data": {
      "image/png": "[encoded data removed]",
      "text/plain": [
       "<Figure size 432x288 with 1 Axes>"
      ]
     },
     "metadata": {},
     "output_type": "display_data"
    }
   ],
   "source": [
    "# Гистограмма процента выживаемости для пассажиров из Шербурга\n",
    "plt.pie(x=[percent_sirvivor_from_Cherbourg, 100-percent_sirvivor_from_Cherbourg], \n",
    "        labels=['Cherbourg alive', 'Cherbourg dead'], autopct='%1.2f%%')\n",
    "plt.show()"
   ]
  },
  {
   "cell_type": "code",
   "execution_count": 243,
   "id": "03a6aab6",
   "metadata": {},
   "outputs": [
    {
     "data": {
      "text/plain": [
       "59.7"
      ]
     },
     "execution_count": 243,
     "metadata": {},
     "output_type": "execute_result"
    }
   ],
   "source": [
    "# Опрделение процента выживаемости пассажиров из Квинстона\n",
    "percent_sirvivor_from_Queenstown = round(Queenstown_alive/Queenstown*100, 2)\n",
    "percent_sirvivor_from_Queenstown"
   ]
  },
  {
   "cell_type": "code",
   "execution_count": 246,
   "id": "45772577",
   "metadata": {},
   "outputs": [
    {
     "data": {
      "image/png": "[encoded data removed]",
      "text/plain": [
       "<Figure size 432x288 with 1 Axes>"
      ]
     },
     "metadata": {},
     "output_type": "display_data"
    }
   ],
   "source": [
    "# Гистограмма процента выживаемости для пассажиров из Квинстона\n",
    "plt.pie(x=[percent_sirvivor_from_Queenstown, 100-percent_sirvivor_from_Queenstown], \n",
    "        labels=['Queenstown alive', 'Queenstown dead'], autopct='%1.2f%%')\n",
    "plt.show()"
   ]
  },
  {
   "cell_type": "code",
   "execution_count": 244,
   "id": "8219aa48",
   "metadata": {},
   "outputs": [
    {
     "data": {
      "text/plain": [
       "31.53"
      ]
     },
     "execution_count": 244,
     "metadata": {},
     "output_type": "execute_result"
    }
   ],
   "source": [
    "# Опрделение процента выживаемости пассажиров из Саутгемптона\n",
    "percent_sirvivor_from_Southampton = round(Southampton_alive/Southampton*100, 2)\n",
    "percent_sirvivor_from_Southampton"
   ]
  },
  {
   "cell_type": "code",
   "execution_count": 247,
   "id": "f43bc398",
   "metadata": {},
   "outputs": [
    {
     "data": {
      "image/png": "[encoded data removed]",
      "text/plain": [
       "<Figure size 432x288 with 1 Axes>"
      ]
     },
     "metadata": {},
     "output_type": "display_data"
    }
   ],
   "source": [
    "# Гистограмма процента выживаемости для пассажиров из Саутгемптона\n",
    "plt.pie(x=[percent_sirvivor_from_Southampton, 100-percent_sirvivor_from_Southampton], \n",
    "        labels=['Southampton alive', 'Southampton dead'], autopct='%1.2f%%')\n",
    "plt.show()"
   ]
  },
  {
   "cell_type": "code",
   "execution_count": 164,
   "id": "f4af4981",
   "metadata": {},
   "outputs": [
    {
     "data": {
      "text/html": [
       "<div>\n",
       "<style scoped>\n",
       "    .dataframe tbody tr th:only-of-type {\n",
       "        vertical-align: middle;\n",
       "    }\n",
       "\n",
       "    .dataframe tbody tr th {\n",
       "        vertical-align: top;\n",
       "    }\n",
       "\n",
       "    .dataframe thead th {\n",
       "        text-align: right;\n",
       "    }\n",
       "</style>\n",
       "<table border=\"1\" class=\"dataframe\">\n",
       "  <thead>\n",
       "    <tr style=\"text-align: right;\">\n",
       "      <th></th>\n",
       "      <th>PassengerId</th>\n",
       "      <th>Survived</th>\n",
       "      <th>Pclass</th>\n",
       "      <th>Name</th>\n",
       "      <th>Sex</th>\n",
       "      <th>Age</th>\n",
       "      <th>SibSp</th>\n",
       "      <th>Parch</th>\n",
       "      <th>Ticket</th>\n",
       "      <th>Fare</th>\n",
       "      <th>Cabin</th>\n",
       "      <th>Embarked</th>\n",
       "    </tr>\n",
       "  </thead>\n",
       "  <tbody>\n",
       "    <tr>\n",
       "      <th>0</th>\n",
       "      <td>0</td>\n",
       "      <td>1</td>\n",
       "      <td>1</td>\n",
       "      <td>Oconnor, Frankie</td>\n",
       "      <td>male</td>\n",
       "      <td>NaN</td>\n",
       "      <td>2</td>\n",
       "      <td>0</td>\n",
       "      <td>209245</td>\n",
       "      <td>27.14</td>\n",
       "      <td>C12239</td>\n",
       "      <td>S</td>\n",
       "    </tr>\n",
       "    <tr>\n",
       "      <th>1</th>\n",
       "      <td>1</td>\n",
       "      <td>0</td>\n",
       "      <td>3</td>\n",
       "      <td>Bryan, Drew</td>\n",
       "      <td>male</td>\n",
       "      <td>NaN</td>\n",
       "      <td>0</td>\n",
       "      <td>0</td>\n",
       "      <td>27323</td>\n",
       "      <td>13.35</td>\n",
       "      <td>NaN</td>\n",
       "      <td>S</td>\n",
       "    </tr>\n",
       "    <tr>\n",
       "      <th>2</th>\n",
       "      <td>2</td>\n",
       "      <td>0</td>\n",
       "      <td>3</td>\n",
       "      <td>Owens, Kenneth</td>\n",
       "      <td>male</td>\n",
       "      <td>0.33</td>\n",
       "      <td>1</td>\n",
       "      <td>2</td>\n",
       "      <td>CA 457703</td>\n",
       "      <td>71.29</td>\n",
       "      <td>NaN</td>\n",
       "      <td>S</td>\n",
       "    </tr>\n",
       "    <tr>\n",
       "      <th>3</th>\n",
       "      <td>3</td>\n",
       "      <td>0</td>\n",
       "      <td>3</td>\n",
       "      <td>Kramer, James</td>\n",
       "      <td>male</td>\n",
       "      <td>19.00</td>\n",
       "      <td>0</td>\n",
       "      <td>0</td>\n",
       "      <td>A. 10866</td>\n",
       "      <td>13.04</td>\n",
       "      <td>NaN</td>\n",
       "      <td>S</td>\n",
       "    </tr>\n",
       "    <tr>\n",
       "      <th>4</th>\n",
       "      <td>4</td>\n",
       "      <td>1</td>\n",
       "      <td>3</td>\n",
       "      <td>Bond, Michael</td>\n",
       "      <td>male</td>\n",
       "      <td>25.00</td>\n",
       "      <td>0</td>\n",
       "      <td>0</td>\n",
       "      <td>427635</td>\n",
       "      <td>7.76</td>\n",
       "      <td>NaN</td>\n",
       "      <td>S</td>\n",
       "    </tr>\n",
       "    <tr>\n",
       "      <th>...</th>\n",
       "      <td>...</td>\n",
       "      <td>...</td>\n",
       "      <td>...</td>\n",
       "      <td>...</td>\n",
       "      <td>...</td>\n",
       "      <td>...</td>\n",
       "      <td>...</td>\n",
       "      <td>...</td>\n",
       "      <td>...</td>\n",
       "      <td>...</td>\n",
       "      <td>...</td>\n",
       "      <td>...</td>\n",
       "    </tr>\n",
       "    <tr>\n",
       "      <th>99995</th>\n",
       "      <td>99995</td>\n",
       "      <td>1</td>\n",
       "      <td>2</td>\n",
       "      <td>Bell, Adele</td>\n",
       "      <td>female</td>\n",
       "      <td>62.00</td>\n",
       "      <td>0</td>\n",
       "      <td>0</td>\n",
       "      <td>PC 15008</td>\n",
       "      <td>14.86</td>\n",
       "      <td>D17243</td>\n",
       "      <td>C</td>\n",
       "    </tr>\n",
       "    <tr>\n",
       "      <th>99996</th>\n",
       "      <td>99996</td>\n",
       "      <td>0</td>\n",
       "      <td>2</td>\n",
       "      <td>Brown, Herman</td>\n",
       "      <td>male</td>\n",
       "      <td>66.00</td>\n",
       "      <td>0</td>\n",
       "      <td>0</td>\n",
       "      <td>13273</td>\n",
       "      <td>11.15</td>\n",
       "      <td>NaN</td>\n",
       "      <td>S</td>\n",
       "    </tr>\n",
       "    <tr>\n",
       "      <th>99997</th>\n",
       "      <td>99997</td>\n",
       "      <td>0</td>\n",
       "      <td>3</td>\n",
       "      <td>Childress, Charles</td>\n",
       "      <td>male</td>\n",
       "      <td>37.00</td>\n",
       "      <td>0</td>\n",
       "      <td>0</td>\n",
       "      <td>NaN</td>\n",
       "      <td>9.95</td>\n",
       "      <td>NaN</td>\n",
       "      <td>S</td>\n",
       "    </tr>\n",
       "    <tr>\n",
       "      <th>99998</th>\n",
       "      <td>99998</td>\n",
       "      <td>0</td>\n",
       "      <td>3</td>\n",
       "      <td>Caughlin, Thomas</td>\n",
       "      <td>male</td>\n",
       "      <td>51.00</td>\n",
       "      <td>0</td>\n",
       "      <td>1</td>\n",
       "      <td>458654</td>\n",
       "      <td>30.92</td>\n",
       "      <td>NaN</td>\n",
       "      <td>S</td>\n",
       "    </tr>\n",
       "    <tr>\n",
       "      <th>99999</th>\n",
       "      <td>99999</td>\n",
       "      <td>0</td>\n",
       "      <td>3</td>\n",
       "      <td>Enciso, Tyler</td>\n",
       "      <td>male</td>\n",
       "      <td>55.00</td>\n",
       "      <td>0</td>\n",
       "      <td>0</td>\n",
       "      <td>458074</td>\n",
       "      <td>13.96</td>\n",
       "      <td>NaN</td>\n",
       "      <td>S</td>\n",
       "    </tr>\n",
       "  </tbody>\n",
       "</table>\n",
       "<p>99866 rows × 12 columns</p>\n",
       "</div>"
      ],
      "text/plain": [
       "       PassengerId  Survived  Pclass                Name     Sex    Age  \\\n",
       "0                0         1       1    Oconnor, Frankie    male    NaN   \n",
       "1                1         0       3         Bryan, Drew    male    NaN   \n",
       "2                2         0       3      Owens, Kenneth    male   0.33   \n",
       "3                3         0       3       Kramer, James    male  19.00   \n",
       "4                4         1       3       Bond, Michael    male  25.00   \n",
       "...            ...       ...     ...                 ...     ...    ...   \n",
       "99995        99995         1       2         Bell, Adele  female  62.00   \n",
       "99996        99996         0       2       Brown, Herman    male  66.00   \n",
       "99997        99997         0       3  Childress, Charles    male  37.00   \n",
       "99998        99998         0       3    Caughlin, Thomas    male  51.00   \n",
       "99999        99999         0       3       Enciso, Tyler    male  55.00   \n",
       "\n",
       "       SibSp  Parch     Ticket   Fare   Cabin Embarked  \n",
       "0          2      0     209245  27.14  C12239        S  \n",
       "1          0      0      27323  13.35     NaN        S  \n",
       "2          1      2  CA 457703  71.29     NaN        S  \n",
       "3          0      0   A. 10866  13.04     NaN        S  \n",
       "4          0      0     427635   7.76     NaN        S  \n",
       "...      ...    ...        ...    ...     ...      ...  \n",
       "99995      0      0   PC 15008  14.86  D17243        C  \n",
       "99996      0      0      13273  11.15     NaN        S  \n",
       "99997      0      0        NaN   9.95     NaN        S  \n",
       "99998      0      1     458654  30.92     NaN        S  \n",
       "99999      0      0     458074  13.96     NaN        S  \n",
       "\n",
       "[99866 rows x 12 columns]"
      ]
     },
     "execution_count": 164,
     "metadata": {},
     "output_type": "execute_result"
    }
   ],
   "source": [
    "# Определение пассажиров с указанной стоимостью билетов\n",
    "cost_ticket = data[data['Fare'] > 0]\n",
    "cost_ticket"
   ]
  },
  {
   "cell_type": "code",
   "execution_count": 286,
   "id": "5d300349",
   "metadata": {},
   "outputs": [
    {
     "data": {
      "text/plain": [
       "<seaborn.axisgrid.FacetGrid at 0x1e2df026820>"
      ]
     },
     "execution_count": 286,
     "metadata": {},
     "output_type": "execute_result"
    },
    {
     "data": {
      "image/png": "[encoded data removed]",
      "text/plain": [
       "<Figure size 360x360 with 1 Axes>"
      ]
     },
     "metadata": {
      "needs_background": "light"
     },
     "output_type": "display_data"
    }
   ],
   "source": [
    "# Гистограмма распределения стоимости билетов\n",
    "sns.displot(data=data, x='Fare', kde = True)"
   ]
  },
  {
   "cell_type": "code",
   "execution_count": 165,
   "id": "85b1c88b",
   "metadata": {},
   "outputs": [
    {
     "data": {
      "text/plain": [
       "744.66"
      ]
     },
     "execution_count": 165,
     "metadata": {},
     "output_type": "execute_result"
    }
   ],
   "source": [
    "# Определение самого дорого билета\n",
    "max_cost_ticket = max(cost_ticket['Fare'])\n",
    "max_cost_ticket"
   ]
  },
  {
   "cell_type": "code",
   "execution_count": 166,
   "id": "219703f6",
   "metadata": {},
   "outputs": [
    {
     "data": {
      "text/plain": [
       "0.68"
      ]
     },
     "execution_count": 166,
     "metadata": {},
     "output_type": "execute_result"
    }
   ],
   "source": [
    "# Определение самого дешевого билета\n",
    "min_cost_ticket = min(cost_ticket['Fare'])\n",
    "min_cost_ticket"
   ]
  },
  {
   "cell_type": "code",
   "execution_count": 167,
   "id": "24de6972",
   "metadata": {},
   "outputs": [
    {
     "data": {
      "text/plain": [
       "43.93"
      ]
     },
     "execution_count": 167,
     "metadata": {},
     "output_type": "execute_result"
    }
   ],
   "source": [
    "# Определение средней стоимости билетов\n",
    "mean_cost_ticket = round(cost_ticket['Fare'].mean(), 2)\n",
    "mean_cost_ticket"
   ]
  },
  {
   "cell_type": "code",
   "execution_count": 168,
   "id": "31dc7022",
   "metadata": {},
   "outputs": [
    {
     "data": {
      "text/plain": [
       "<AxesSubplot:>"
      ]
     },
     "execution_count": 168,
     "metadata": {},
     "output_type": "execute_result"
    },
    {
     "data": {
      "image/png": "[encoded data removed]",
      "text/plain": [
       "<Figure size 432x288 with 1 Axes>"
      ]
     },
     "metadata": {
      "needs_background": "light"
     },
     "output_type": "display_data"
    }
   ],
   "source": [
    "# Гистограмма распределения стоимости билетов\n",
    "cost_ticket['Fare'].hist()"
   ]
  },
  {
   "cell_type": "code",
   "execution_count": 256,
   "id": "ebb40cbe",
   "metadata": {},
   "outputs": [
    {
     "data": {
      "text/html": [
       "<div>\n",
       "<style scoped>\n",
       "    .dataframe tbody tr th:only-of-type {\n",
       "        vertical-align: middle;\n",
       "    }\n",
       "\n",
       "    .dataframe tbody tr th {\n",
       "        vertical-align: top;\n",
       "    }\n",
       "\n",
       "    .dataframe thead th {\n",
       "        text-align: right;\n",
       "    }\n",
       "</style>\n",
       "<table border=\"1\" class=\"dataframe\">\n",
       "  <thead>\n",
       "    <tr style=\"text-align: right;\">\n",
       "      <th></th>\n",
       "      <th>PassengerId</th>\n",
       "      <th>Survived</th>\n",
       "      <th>Pclass</th>\n",
       "      <th>Name</th>\n",
       "      <th>Sex</th>\n",
       "      <th>Age</th>\n",
       "      <th>SibSp</th>\n",
       "      <th>Parch</th>\n",
       "      <th>Ticket</th>\n",
       "      <th>Fare</th>\n",
       "      <th>Cabin</th>\n",
       "      <th>Embarked</th>\n",
       "    </tr>\n",
       "  </thead>\n",
       "  <tbody>\n",
       "    <tr>\n",
       "      <th>40061</th>\n",
       "      <td>40061</td>\n",
       "      <td>1</td>\n",
       "      <td>1</td>\n",
       "      <td>Harper, Dannie</td>\n",
       "      <td>male</td>\n",
       "      <td>58.0</td>\n",
       "      <td>0</td>\n",
       "      <td>1</td>\n",
       "      <td>7468</td>\n",
       "      <td>744.66</td>\n",
       "      <td>C10375</td>\n",
       "      <td>Q</td>\n",
       "    </tr>\n",
       "    <tr>\n",
       "      <th>36697</th>\n",
       "      <td>36697</td>\n",
       "      <td>1</td>\n",
       "      <td>1</td>\n",
       "      <td>Kramer, Marjorie</td>\n",
       "      <td>female</td>\n",
       "      <td>35.0</td>\n",
       "      <td>0</td>\n",
       "      <td>0</td>\n",
       "      <td>PC 297290</td>\n",
       "      <td>744.46</td>\n",
       "      <td>C19780</td>\n",
       "      <td>C</td>\n",
       "    </tr>\n",
       "    <tr>\n",
       "      <th>74299</th>\n",
       "      <td>74299</td>\n",
       "      <td>1</td>\n",
       "      <td>1</td>\n",
       "      <td>Ramirez, Lora</td>\n",
       "      <td>female</td>\n",
       "      <td>60.0</td>\n",
       "      <td>0</td>\n",
       "      <td>0</td>\n",
       "      <td>424053</td>\n",
       "      <td>742.13</td>\n",
       "      <td>C17346</td>\n",
       "      <td>C</td>\n",
       "    </tr>\n",
       "    <tr>\n",
       "      <th>59382</th>\n",
       "      <td>59382</td>\n",
       "      <td>1</td>\n",
       "      <td>1</td>\n",
       "      <td>Todd, Dale</td>\n",
       "      <td>male</td>\n",
       "      <td>54.0</td>\n",
       "      <td>0</td>\n",
       "      <td>0</td>\n",
       "      <td>209467</td>\n",
       "      <td>735.70</td>\n",
       "      <td>C8653</td>\n",
       "      <td>C</td>\n",
       "    </tr>\n",
       "    <tr>\n",
       "      <th>70745</th>\n",
       "      <td>70745</td>\n",
       "      <td>1</td>\n",
       "      <td>1</td>\n",
       "      <td>Jenson, Helen</td>\n",
       "      <td>female</td>\n",
       "      <td>33.0</td>\n",
       "      <td>0</td>\n",
       "      <td>0</td>\n",
       "      <td>PC 28064</td>\n",
       "      <td>735.48</td>\n",
       "      <td>C22524</td>\n",
       "      <td>C</td>\n",
       "    </tr>\n",
       "    <tr>\n",
       "      <th>85559</th>\n",
       "      <td>85559</td>\n",
       "      <td>0</td>\n",
       "      <td>1</td>\n",
       "      <td>Poole, Chester</td>\n",
       "      <td>male</td>\n",
       "      <td>NaN</td>\n",
       "      <td>1</td>\n",
       "      <td>0</td>\n",
       "      <td>30457</td>\n",
       "      <td>732.01</td>\n",
       "      <td>B12132</td>\n",
       "      <td>C</td>\n",
       "    </tr>\n",
       "    <tr>\n",
       "      <th>53092</th>\n",
       "      <td>53092</td>\n",
       "      <td>1</td>\n",
       "      <td>1</td>\n",
       "      <td>Linares, Rufus</td>\n",
       "      <td>male</td>\n",
       "      <td>55.0</td>\n",
       "      <td>1</td>\n",
       "      <td>0</td>\n",
       "      <td>SC 29707</td>\n",
       "      <td>727.65</td>\n",
       "      <td>C4593</td>\n",
       "      <td>S</td>\n",
       "    </tr>\n",
       "    <tr>\n",
       "      <th>49192</th>\n",
       "      <td>49192</td>\n",
       "      <td>1</td>\n",
       "      <td>1</td>\n",
       "      <td>Nicholas, Joanna</td>\n",
       "      <td>female</td>\n",
       "      <td>65.0</td>\n",
       "      <td>0</td>\n",
       "      <td>2</td>\n",
       "      <td>25122</td>\n",
       "      <td>717.23</td>\n",
       "      <td>C10786</td>\n",
       "      <td>C</td>\n",
       "    </tr>\n",
       "    <tr>\n",
       "      <th>39515</th>\n",
       "      <td>39515</td>\n",
       "      <td>0</td>\n",
       "      <td>1</td>\n",
       "      <td>Norman, Loretta</td>\n",
       "      <td>female</td>\n",
       "      <td>61.0</td>\n",
       "      <td>0</td>\n",
       "      <td>1</td>\n",
       "      <td>13754</td>\n",
       "      <td>715.44</td>\n",
       "      <td>C3971</td>\n",
       "      <td>C</td>\n",
       "    </tr>\n",
       "    <tr>\n",
       "      <th>14776</th>\n",
       "      <td>14776</td>\n",
       "      <td>1</td>\n",
       "      <td>1</td>\n",
       "      <td>Mills, Sarah</td>\n",
       "      <td>female</td>\n",
       "      <td>34.0</td>\n",
       "      <td>1</td>\n",
       "      <td>0</td>\n",
       "      <td>30012</td>\n",
       "      <td>706.70</td>\n",
       "      <td>C18939</td>\n",
       "      <td>C</td>\n",
       "    </tr>\n",
       "    <tr>\n",
       "      <th>65574</th>\n",
       "      <td>65574</td>\n",
       "      <td>1</td>\n",
       "      <td>1</td>\n",
       "      <td>Engel, Mary</td>\n",
       "      <td>female</td>\n",
       "      <td>56.0</td>\n",
       "      <td>1</td>\n",
       "      <td>2</td>\n",
       "      <td>PC 433928</td>\n",
       "      <td>704.34</td>\n",
       "      <td>C14980</td>\n",
       "      <td>S</td>\n",
       "    </tr>\n",
       "    <tr>\n",
       "      <th>36235</th>\n",
       "      <td>36235</td>\n",
       "      <td>1</td>\n",
       "      <td>1</td>\n",
       "      <td>Curry, Percy</td>\n",
       "      <td>male</td>\n",
       "      <td>55.0</td>\n",
       "      <td>0</td>\n",
       "      <td>0</td>\n",
       "      <td>29891</td>\n",
       "      <td>702.55</td>\n",
       "      <td>C22105</td>\n",
       "      <td>S</td>\n",
       "    </tr>\n",
       "    <tr>\n",
       "      <th>4323</th>\n",
       "      <td>4323</td>\n",
       "      <td>1</td>\n",
       "      <td>1</td>\n",
       "      <td>Landry, Patricia</td>\n",
       "      <td>female</td>\n",
       "      <td>51.0</td>\n",
       "      <td>1</td>\n",
       "      <td>0</td>\n",
       "      <td>PC 184600</td>\n",
       "      <td>698.61</td>\n",
       "      <td>C5466</td>\n",
       "      <td>S</td>\n",
       "    </tr>\n",
       "    <tr>\n",
       "      <th>93024</th>\n",
       "      <td>93024</td>\n",
       "      <td>1</td>\n",
       "      <td>1</td>\n",
       "      <td>Latour, Deann</td>\n",
       "      <td>female</td>\n",
       "      <td>39.0</td>\n",
       "      <td>0</td>\n",
       "      <td>0</td>\n",
       "      <td>29559</td>\n",
       "      <td>689.63</td>\n",
       "      <td>C6126</td>\n",
       "      <td>C</td>\n",
       "    </tr>\n",
       "    <tr>\n",
       "      <th>67187</th>\n",
       "      <td>67187</td>\n",
       "      <td>1</td>\n",
       "      <td>1</td>\n",
       "      <td>Stallworth, Leola</td>\n",
       "      <td>female</td>\n",
       "      <td>57.0</td>\n",
       "      <td>0</td>\n",
       "      <td>0</td>\n",
       "      <td>403389</td>\n",
       "      <td>688.30</td>\n",
       "      <td>NaN</td>\n",
       "      <td>C</td>\n",
       "    </tr>\n",
       "    <tr>\n",
       "      <th>39118</th>\n",
       "      <td>39118</td>\n",
       "      <td>1</td>\n",
       "      <td>1</td>\n",
       "      <td>Gooch, Kate</td>\n",
       "      <td>female</td>\n",
       "      <td>46.0</td>\n",
       "      <td>0</td>\n",
       "      <td>1</td>\n",
       "      <td>10293</td>\n",
       "      <td>687.35</td>\n",
       "      <td>C4657</td>\n",
       "      <td>S</td>\n",
       "    </tr>\n",
       "    <tr>\n",
       "      <th>34662</th>\n",
       "      <td>34662</td>\n",
       "      <td>1</td>\n",
       "      <td>1</td>\n",
       "      <td>Gilbert, Flora</td>\n",
       "      <td>female</td>\n",
       "      <td>48.0</td>\n",
       "      <td>0</td>\n",
       "      <td>0</td>\n",
       "      <td>PC 15899</td>\n",
       "      <td>683.81</td>\n",
       "      <td>B17879</td>\n",
       "      <td>C</td>\n",
       "    </tr>\n",
       "    <tr>\n",
       "      <th>65914</th>\n",
       "      <td>65914</td>\n",
       "      <td>1</td>\n",
       "      <td>1</td>\n",
       "      <td>Ritter, Vada</td>\n",
       "      <td>female</td>\n",
       "      <td>24.0</td>\n",
       "      <td>0</td>\n",
       "      <td>0</td>\n",
       "      <td>479540</td>\n",
       "      <td>683.77</td>\n",
       "      <td>C18326</td>\n",
       "      <td>S</td>\n",
       "    </tr>\n",
       "    <tr>\n",
       "      <th>8801</th>\n",
       "      <td>8801</td>\n",
       "      <td>1</td>\n",
       "      <td>1</td>\n",
       "      <td>Powell, Kathryn</td>\n",
       "      <td>female</td>\n",
       "      <td>29.0</td>\n",
       "      <td>0</td>\n",
       "      <td>0</td>\n",
       "      <td>PC 26016</td>\n",
       "      <td>683.64</td>\n",
       "      <td>C18924</td>\n",
       "      <td>C</td>\n",
       "    </tr>\n",
       "    <tr>\n",
       "      <th>12576</th>\n",
       "      <td>12576</td>\n",
       "      <td>1</td>\n",
       "      <td>1</td>\n",
       "      <td>Davis, Celeste</td>\n",
       "      <td>female</td>\n",
       "      <td>20.0</td>\n",
       "      <td>0</td>\n",
       "      <td>0</td>\n",
       "      <td>STON/O 453755</td>\n",
       "      <td>683.52</td>\n",
       "      <td>C19484</td>\n",
       "      <td>C</td>\n",
       "    </tr>\n",
       "  </tbody>\n",
       "</table>\n",
       "</div>"
      ],
      "text/plain": [
       "       PassengerId  Survived  Pclass               Name     Sex   Age  SibSp  \\\n",
       "40061        40061         1       1     Harper, Dannie    male  58.0      0   \n",
       "36697        36697         1       1   Kramer, Marjorie  female  35.0      0   \n",
       "74299        74299         1       1      Ramirez, Lora  female  60.0      0   \n",
       "59382        59382         1       1         Todd, Dale    male  54.0      0   \n",
       "70745        70745         1       1      Jenson, Helen  female  33.0      0   \n",
       "85559        85559         0       1     Poole, Chester    male   NaN      1   \n",
       "53092        53092         1       1     Linares, Rufus    male  55.0      1   \n",
       "49192        49192         1       1   Nicholas, Joanna  female  65.0      0   \n",
       "39515        39515         0       1    Norman, Loretta  female  61.0      0   \n",
       "14776        14776         1       1       Mills, Sarah  female  34.0      1   \n",
       "65574        65574         1       1        Engel, Mary  female  56.0      1   \n",
       "36235        36235         1       1       Curry, Percy    male  55.0      0   \n",
       "4323          4323         1       1   Landry, Patricia  female  51.0      1   \n",
       "93024        93024         1       1      Latour, Deann  female  39.0      0   \n",
       "67187        67187         1       1  Stallworth, Leola  female  57.0      0   \n",
       "39118        39118         1       1        Gooch, Kate  female  46.0      0   \n",
       "34662        34662         1       1     Gilbert, Flora  female  48.0      0   \n",
       "65914        65914         1       1       Ritter, Vada  female  24.0      0   \n",
       "8801          8801         1       1    Powell, Kathryn  female  29.0      0   \n",
       "12576        12576         1       1     Davis, Celeste  female  20.0      0   \n",
       "\n",
       "       Parch         Ticket    Fare   Cabin Embarked  \n",
       "40061      1           7468  744.66  C10375        Q  \n",
       "36697      0      PC 297290  744.46  C19780        C  \n",
       "74299      0         424053  742.13  C17346        C  \n",
       "59382      0         209467  735.70   C8653        C  \n",
       "70745      0       PC 28064  735.48  C22524        C  \n",
       "85559      0          30457  732.01  B12132        C  \n",
       "53092      0       SC 29707  727.65   C4593        S  \n",
       "49192      2          25122  717.23  C10786        C  \n",
       "39515      1          13754  715.44   C3971        C  \n",
       "14776      0          30012  706.70  C18939        C  \n",
       "65574      2      PC 433928  704.34  C14980        S  \n",
       "36235      0          29891  702.55  C22105        S  \n",
       "4323       0      PC 184600  698.61   C5466        S  \n",
       "93024      0          29559  689.63   C6126        C  \n",
       "67187      0         403389  688.30     NaN        C  \n",
       "39118      1          10293  687.35   C4657        S  \n",
       "34662      0       PC 15899  683.81  B17879        C  \n",
       "65914      0         479540  683.77  C18326        S  \n",
       "8801       0       PC 26016  683.64  C18924        C  \n",
       "12576      0  STON/O 453755  683.52  C19484        C  "
      ]
     },
     "execution_count": 256,
     "metadata": {},
     "output_type": "execute_result"
    }
   ],
   "source": [
    "# Определим обладателей 20 самых дорогих билетов\n",
    "most_cost_ticket = data.sort_values(by='Fare', ascending = False)\n",
    "most_cost_ticket.head(20)"
   ]
  },
  {
   "cell_type": "code",
   "execution_count": null,
   "id": "c5c3431b",
   "metadata": {},
   "outputs": [],
   "source": [
    "# Summary\n",
    "# 1. Пасажиров мужчин было больше на борту\n",
    "# 2. Пассажиров женщин спаслось больше\n",
    "# 3. Больше пассажиров погибло чем спаслось\n",
    "# 4. Средний возраст пассажиров на борту - 38.36 лет\n",
    "# 5. На борту находилось - 11917 детей (меньше 18 лет) из них спаслось - 5212\n",
    "# 6. Пассажиров 3 класса на борту было больше всего\n",
    "# 7. Среди выживших больше всего пассажиров 1 класса\n",
    "# 8. 26692 человек имели братьев/сестер или супругов на борту\n",
    "# 9. 26460 человек имели родителей или детей на борту\n",
    "# 10. Подавляющее большинство пассажиров отправлялись из Саутгемптона\n",
    "# 11. Процент выживаемости выше у пассажиров из Шербурга\n",
    "# 12. Самый дорогой билет стоил - 744.66, а самый дешевый - 0.68\n",
    "# 13. Средняя стоимость билета составила - 43.93\n",
    "# 14. Среди 20 обладателей самых дорогих билетов 18 выжили\n",
    "\n",
    "# Вывод по гипотезам: \n",
    "# Самая высокая вероятность выжить у женщин из 1 класса с пунктом отправления Шербург.\n",
    "# Самая низкая вероятность выжить у мужчин из 3 класса с пунктом отправления Саутгемптон."
   ]
  }
 ],
 "metadata": {
  "kernelspec": {
   "display_name": "Python 3 (ipykernel)",
   "language": "python",
   "name": "python3"
  },
  "language_info": {
   "codemirror_mode": {
    "name": "ipython",
    "version": 3
   },
   "file_extension": ".py",
   "mimetype": "text/x-python",
   "name": "python",
   "nbconvert_exporter": "python",
   "pygments_lexer": "ipython3",
   "version": "3.9.7"
  }
 },
 "nbformat": 4,
 "nbformat_minor": 5
}
